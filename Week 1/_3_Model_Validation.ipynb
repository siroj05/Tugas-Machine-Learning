{
  "nbformat": 4,
  "nbformat_minor": 0,
  "metadata": {
    "colab": {
      "name": "#3 Model Validation.ipynb",
      "provenance": [],
      "authorship_tag": "ABX9TyMeA6Xnqz/DLySWfPaMnhg6",
      "include_colab_link": true
    },
    "kernelspec": {
      "name": "python3",
      "display_name": "Python 3"
    },
    "language_info": {
      "name": "python"
    }
  },
  "cells": [
    {
      "cell_type": "markdown",
      "metadata": {
        "id": "view-in-github",
        "colab_type": "text"
      },
      "source": [
        "<a href=\"https://colab.research.google.com/github/siroj05/Tugas-Machine-Learning/blob/main/Week%201/_3_Model_Validation.ipynb\" target=\"_parent\"><img src=\"https://colab.research.google.com/assets/colab-badge.svg\" alt=\"Open In Colab\"/></a>"
      ]
    },
    {
      "cell_type": "code",
      "metadata": {
        "id": "rAiocgvAbAlz",
        "colab": {
          "base_uri": "https://localhost:8080/"
        },
        "outputId": "c9b4ccc2-f09c-44f8-f0b1-e2fdf85b3465"
      },
      "source": [
        "from google.colab import drive\n",
        "drive.mount('/content/drive')"
      ],
      "execution_count": null,
      "outputs": [
        {
          "output_type": "stream",
          "name": "stdout",
          "text": [
            "Mounted at /content/drive\n"
          ]
        }
      ]
    },
    {
      "cell_type": "code",
      "metadata": {
        "colab": {
          "base_uri": "https://localhost:8080/"
        },
        "id": "7yw9q3ZCbzPD",
        "outputId": "e9e1dcd2-69e9-44a4-f23b-841fac9b7947"
      },
      "source": [
        "## Recap\n",
        "import pandas as pd\n",
        "from sklearn.tree import DecisionTreeRegressor\n",
        "iowa_file_path ='/content/drive/MyDrive/Colab/train.csv'\n",
        "home_data = pd.read_csv(iowa_file_path)\n",
        "y = home_data.SalePrice\n",
        "feature_columns = ['LotArea', 'YearBuilt', '1stFlrSF', '2ndFlrSF', 'FullBath', 'BedroomAbvGr', 'TotRmsAbvGrd']\n",
        "X = home_data[feature_columns]\n",
        "iowa_model = DecisionTreeRegressor()\n",
        "iowa_model.fit(X, y)\n"
      ],
      "execution_count": null,
      "outputs": [
        {
          "output_type": "execute_result",
          "data": {
            "text/plain": [
              "DecisionTreeRegressor(ccp_alpha=0.0, criterion='mse', max_depth=None,\n",
              "                      max_features=None, max_leaf_nodes=None,\n",
              "                      min_impurity_decrease=0.0, min_impurity_split=None,\n",
              "                      min_samples_leaf=1, min_samples_split=2,\n",
              "                      min_weight_fraction_leaf=0.0, presort='deprecated',\n",
              "                      random_state=None, splitter='best')"
            ]
          },
          "metadata": {},
          "execution_count": 3
        }
      ]
    },
    {
      "cell_type": "code",
      "metadata": {
        "id": "WH9KXdsIb8PA"
      },
      "source": [
        "## Split Data\n",
        "from sklearn.model_selection import train_test_split\n",
        "train_X, val_X, train_y, val_y = train_test_split(X, y, random_state=1)"
      ],
      "execution_count": null,
      "outputs": []
    },
    {
      "cell_type": "code",
      "metadata": {
        "colab": {
          "base_uri": "https://localhost:8080/"
        },
        "id": "m59u9MRMcDmp",
        "outputId": "c1e90661-5271-4d6c-f4e8-81233ce78275"
      },
      "source": [
        "## Specify and Fit Model\n",
        "iowa_model = DecisionTreeRegressor(random_state=1)\n",
        "iowa_model.fit(train_X, train_y)"
      ],
      "execution_count": null,
      "outputs": [
        {
          "output_type": "execute_result",
          "data": {
            "text/plain": [
              "DecisionTreeRegressor(ccp_alpha=0.0, criterion='mse', max_depth=None,\n",
              "                      max_features=None, max_leaf_nodes=None,\n",
              "                      min_impurity_decrease=0.0, min_impurity_split=None,\n",
              "                      min_samples_leaf=1, min_samples_split=2,\n",
              "                      min_weight_fraction_leaf=0.0, presort='deprecated',\n",
              "                      random_state=1, splitter='best')"
            ]
          },
          "metadata": {},
          "execution_count": 5
        }
      ]
    },
    {
      "cell_type": "code",
      "metadata": {
        "id": "cp8HhxQxcKxw"
      },
      "source": [
        "## Make Predictions with Validation Data\n",
        "val_predictions = iowa_model.predict(val_X)"
      ],
      "execution_count": null,
      "outputs": []
    },
    {
      "cell_type": "code",
      "metadata": {
        "colab": {
          "base_uri": "https://localhost:8080/"
        },
        "id": "F92OQMkZcSzB",
        "outputId": "42384363-2d5a-4564-e25a-b316875a5e20"
      },
      "source": [
        "## Top Few Validation Predictions\n",
        "print(val_predictions)"
      ],
      "execution_count": null,
      "outputs": [
        {
          "output_type": "stream",
          "name": "stdout",
          "text": [
            "[186500. 184000. 130000.  92000. 164500. 220000. 335000. 144152. 215000.\n",
            " 262000. 180000. 121000. 175900. 210000. 248900. 131000. 100000. 149350.\n",
            " 235000. 156000. 149900. 265979. 193500. 377500. 100000. 162900. 145000.\n",
            " 180000. 582933. 146000. 140000.  91500. 112500. 113000. 145000. 312500.\n",
            " 110000. 132000. 305000. 128000. 162900. 115000. 110000. 124000. 215200.\n",
            " 180000.  79000. 192000. 282922. 235000. 132000. 325000.  80000. 237000.\n",
            " 208300. 100000. 120500. 162000. 153000. 187000. 185750. 335000. 129000.\n",
            " 124900. 185750. 133700. 127000. 230000. 146800. 157900. 136000. 153575.\n",
            " 335000. 177500. 143000. 202500. 168500. 105000. 305900. 192000. 190000.\n",
            " 140200. 134900. 128950. 213000. 108959. 149500. 190000. 175900. 160000.\n",
            " 250580. 157000. 120500. 147500. 118000. 117000. 110000. 130000. 148500.\n",
            " 148000. 190000. 130500. 127000. 120500. 135000. 168000. 176432. 128000.\n",
            " 147000. 260000. 132000. 129500. 171000. 181134. 227875. 189000. 282922.\n",
            "  94750. 185000. 194000. 159000. 279500. 290000. 135000. 299800. 165000.\n",
            " 394432. 135750. 155000. 212000. 310000. 134800.  84000. 122900.  80000.\n",
            " 191000. 755000. 147000. 248000. 106500. 145000. 359100. 145000. 192500.\n",
            " 149000. 252000. 109000. 215000. 220000. 138500. 185000. 185000. 120500.\n",
            " 181000. 173000. 335000.  67000. 149350.  67000. 156000. 119000. 110500.\n",
            " 184000. 147000. 156000. 171000. 177000. 159000. 125000. 105000. 284000.\n",
            " 167500. 200000. 312500. 213000. 135960. 205000. 237000. 107000. 163000.\n",
            " 132500. 155835. 165500. 138500. 257000. 160000. 394617. 281213. 161000.\n",
            " 127500.  88000. 139000.  89500. 132500. 134800. 335000. 248900. 155000.\n",
            " 147000.  86000. 185000. 200000. 180500. 215200. 319900. 105000. 194000.\n",
            " 340000. 256000. 280000. 186500. 105500. 155000. 133500. 255500. 253000.\n",
            " 130000.  92900. 256000. 100000. 755000. 138500. 168500. 112000. 127000.\n",
            " 109008. 197000. 245500. 171900. 162000. 128000. 173000. 132000. 118000.\n",
            " 235128. 118964. 260000. 116000. 185000. 315750. 236500. 140000. 151500.\n",
            " 184000.  84000. 130000. 154000. 205000. 110000. 151500. 123000. 129500.\n",
            " 173900. 181500. 165500. 106500. 184900.  84500. 377500. 118500. 180000.\n",
            " 190000. 208500. 181000.  98000. 157000. 151500.  84000. 139000. 100000.\n",
            " 161750. 165600. 116000. 118500. 187000. 147000. 112000. 132000. 230000.\n",
            " 128000. 147000. 125000. 145000. 151000. 284000. 221000. 140200. 129000.\n",
            " 290000. 105000.  96500. 310000. 140000. 132000. 203000. 221000. 215200.\n",
            " 214000. 139000.  91500. 148000. 155000. 115000. 180000. 165500. 223000.\n",
            " 139000. 179900. 150000. 185000. 163000. 176000. 127000. 227000. 146000.\n",
            "  99900. 275000. 180500. 180000. 157000. 186500. 179900. 137500. 219500.\n",
            " 155000. 345000. 197000. 205000. 159000. 159434. 156000. 196000. 252678.\n",
            " 255500. 213000. 150900. 143750. 139000. 260000. 189000. 213250. 207500.\n",
            "  80000. 221000. 109500. 155000. 165000. 149350. 204900. 105900. 155000.\n",
            " 176000. 395000. 149700. 147000. 143900. 226700. 176000. 116000. 325300.\n",
            " 133750. 188500. 148500. 284000. 201800.]\n"
          ]
        }
      ]
    },
    {
      "cell_type": "code",
      "metadata": {
        "colab": {
          "base_uri": "https://localhost:8080/"
        },
        "id": "Ln0nJUQ7cYMi",
        "outputId": "abf5dd49-7b85-4786-fb3e-fb5b6a87b5d6"
      },
      "source": [
        "## Top Few Actual Prices from Validation Data\n",
        "print(train_y.head())"
      ],
      "execution_count": null,
      "outputs": [
        {
          "output_type": "stream",
          "name": "stdout",
          "text": [
            "6       307000\n",
            "807     223500\n",
            "955     145000\n",
            "1040    155000\n",
            "701     140000\n",
            "Name: SalePrice, dtype: int64\n"
          ]
        }
      ]
    },
    {
      "cell_type": "code",
      "metadata": {
        "colab": {
          "base_uri": "https://localhost:8080/"
        },
        "id": "K7wcm8COcd2W",
        "outputId": "aa2fb357-4912-46a1-d5a0-f5c5dfe8bd95"
      },
      "source": [
        "## Calculate the Mean Absolute Error in Validation Data\n",
        "from sklearn.metrics import mean_absolute_error\n",
        "val_mae = mean_absolute_error(val_y, val_predictions)\n",
        "print(val_mae)"
      ],
      "execution_count": null,
      "outputs": [
        {
          "output_type": "stream",
          "name": "stdout",
          "text": [
            "29652.931506849316\n"
          ]
        }
      ]
    }
  ]
}