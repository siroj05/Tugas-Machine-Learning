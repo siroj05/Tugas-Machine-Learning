{
  "nbformat": 4,
  "nbformat_minor": 0,
  "metadata": {
    "colab": {
      "name": "Distributed XGBoost with Ray.ipynb",
      "provenance": [],
      "collapsed_sections": [],
      "authorship_tag": "ABX9TyPHgcHee6sxcmP2Jd2lA46Q",
      "include_colab_link": true
    },
    "kernelspec": {
      "name": "python3",
      "display_name": "Python 3"
    },
    "language_info": {
      "name": "python"
    }
  },
  "cells": [
    {
      "cell_type": "markdown",
      "metadata": {
        "id": "view-in-github",
        "colab_type": "text"
      },
      "source": [
        "<a href=\"https://colab.research.google.com/github/siroj05/Tugas-Machine-Learning/blob/main/Week%207/Distributed_XGBoost_with_Ray.ipynb\" target=\"_parent\"><img src=\"https://colab.research.google.com/assets/colab-badge.svg\" alt=\"Open In Colab\"/></a>"
      ]
    },
    {
      "cell_type": "markdown",
      "metadata": {
        "id": "yOvBhvTw9oP9"
      },
      "source": [
        "**Installing and starting Ray**\n",
        "\n"
      ]
    },
    {
      "cell_type": "code",
      "metadata": {
        "colab": {
          "base_uri": "https://localhost:8080/"
        },
        "id": "dhq8RK1l9eiC",
        "outputId": "db717b7c-7461-4bd1-f472-8a5c4e2f4e47"
      },
      "source": [
        "pip install ray"
      ],
      "execution_count": null,
      "outputs": [
        {
          "output_type": "stream",
          "name": "stdout",
          "text": [
            "Collecting ray\n",
            "  Downloading ray-1.8.0-cp37-cp37m-manylinux2014_x86_64.whl (54.7 MB)\n",
            "\u001b[K     |████████████████████████████████| 54.7 MB 31 kB/s \n",
            "\u001b[?25hCollecting redis>=3.5.0\n",
            "  Downloading redis-3.5.3-py2.py3-none-any.whl (72 kB)\n",
            "\u001b[K     |████████████████████████████████| 72 kB 481 kB/s \n",
            "\u001b[?25hRequirement already satisfied: protobuf>=3.15.3 in /usr/local/lib/python3.7/dist-packages (from ray) (3.17.3)\n",
            "Requirement already satisfied: filelock in /usr/local/lib/python3.7/dist-packages (from ray) (3.3.2)\n",
            "Requirement already satisfied: grpcio>=1.28.1 in /usr/local/lib/python3.7/dist-packages (from ray) (1.41.1)\n",
            "Requirement already satisfied: jsonschema in /usr/local/lib/python3.7/dist-packages (from ray) (2.6.0)\n",
            "Requirement already satisfied: numpy>=1.16 in /usr/local/lib/python3.7/dist-packages (from ray) (1.19.5)\n",
            "Requirement already satisfied: click>=7.0 in /usr/local/lib/python3.7/dist-packages (from ray) (7.1.2)\n",
            "Requirement already satisfied: msgpack<2.0.0,>=1.0.0 in /usr/local/lib/python3.7/dist-packages (from ray) (1.0.2)\n",
            "Requirement already satisfied: pyyaml in /usr/local/lib/python3.7/dist-packages (from ray) (3.13)\n",
            "Requirement already satisfied: attrs in /usr/local/lib/python3.7/dist-packages (from ray) (21.2.0)\n",
            "Requirement already satisfied: six>=1.5.2 in /usr/local/lib/python3.7/dist-packages (from grpcio>=1.28.1->ray) (1.15.0)\n",
            "Installing collected packages: redis, ray\n",
            "Successfully installed ray-1.8.0 redis-3.5.3\n"
          ]
        }
      ]
    },
    {
      "cell_type": "markdown",
      "metadata": {
        "id": "PLw1XoyR9ygM"
      },
      "source": [
        "**Installing XGBoost-Ray**"
      ]
    },
    {
      "cell_type": "code",
      "metadata": {
        "colab": {
          "base_uri": "https://localhost:8080/"
        },
        "id": "F1XmNmqI9vZP",
        "outputId": "8fb96019-b36c-4bd5-aa30-904f49423904"
      },
      "source": [
        "pip install xgboost_ray"
      ],
      "execution_count": null,
      "outputs": [
        {
          "output_type": "stream",
          "name": "stdout",
          "text": [
            "Collecting xgboost_ray\n",
            "  Downloading xgboost_ray-0.1.5-py3-none-any.whl (136 kB)\n",
            "\u001b[?25l\r\u001b[K     |██▍                             | 10 kB 26.8 MB/s eta 0:00:01\r\u001b[K     |████▉                           | 20 kB 35.8 MB/s eta 0:00:01\r\u001b[K     |███████▏                        | 30 kB 43.1 MB/s eta 0:00:01\r\u001b[K     |█████████▋                      | 40 kB 30.7 MB/s eta 0:00:01\r\u001b[K     |████████████                    | 51 kB 17.2 MB/s eta 0:00:01\r\u001b[K     |██████████████▍                 | 61 kB 18.6 MB/s eta 0:00:01\r\u001b[K     |████████████████▉               | 71 kB 12.9 MB/s eta 0:00:01\r\u001b[K     |███████████████████▏            | 81 kB 14.0 MB/s eta 0:00:01\r\u001b[K     |█████████████████████▋          | 92 kB 12.8 MB/s eta 0:00:01\r\u001b[K     |████████████████████████        | 102 kB 13.6 MB/s eta 0:00:01\r\u001b[K     |██████████████████████████▍     | 112 kB 13.6 MB/s eta 0:00:01\r\u001b[K     |████████████████████████████▉   | 122 kB 13.6 MB/s eta 0:00:01\r\u001b[K     |███████████████████████████████▏| 133 kB 13.6 MB/s eta 0:00:01\r\u001b[K     |████████████████████████████████| 136 kB 13.6 MB/s \n",
            "\u001b[?25hRequirement already satisfied: pandas in /usr/local/lib/python3.7/dist-packages (from xgboost_ray) (1.1.5)\n",
            "Requirement already satisfied: ray>=1.6 in /usr/local/lib/python3.7/dist-packages (from xgboost_ray) (1.8.0)\n",
            "Requirement already satisfied: numpy<1.20,>=1.16 in /usr/local/lib/python3.7/dist-packages (from xgboost_ray) (1.19.5)\n",
            "Requirement already satisfied: xgboost>=0.90 in /usr/local/lib/python3.7/dist-packages (from xgboost_ray) (0.90)\n",
            "Requirement already satisfied: wrapt>=1.12.1 in /usr/local/lib/python3.7/dist-packages (from xgboost_ray) (1.13.3)\n",
            "Requirement already satisfied: pyarrow<5.0.0 in /usr/local/lib/python3.7/dist-packages (from xgboost_ray) (3.0.0)\n",
            "Requirement already satisfied: msgpack<2.0.0,>=1.0.0 in /usr/local/lib/python3.7/dist-packages (from ray>=1.6->xgboost_ray) (1.0.2)\n",
            "Requirement already satisfied: grpcio>=1.28.1 in /usr/local/lib/python3.7/dist-packages (from ray>=1.6->xgboost_ray) (1.41.1)\n",
            "Requirement already satisfied: attrs in /usr/local/lib/python3.7/dist-packages (from ray>=1.6->xgboost_ray) (21.2.0)\n",
            "Requirement already satisfied: redis>=3.5.0 in /usr/local/lib/python3.7/dist-packages (from ray>=1.6->xgboost_ray) (3.5.3)\n",
            "Requirement already satisfied: click>=7.0 in /usr/local/lib/python3.7/dist-packages (from ray>=1.6->xgboost_ray) (7.1.2)\n",
            "Requirement already satisfied: jsonschema in /usr/local/lib/python3.7/dist-packages (from ray>=1.6->xgboost_ray) (2.6.0)\n",
            "Requirement already satisfied: filelock in /usr/local/lib/python3.7/dist-packages (from ray>=1.6->xgboost_ray) (3.3.2)\n",
            "Requirement already satisfied: protobuf>=3.15.3 in /usr/local/lib/python3.7/dist-packages (from ray>=1.6->xgboost_ray) (3.17.3)\n",
            "Requirement already satisfied: pyyaml in /usr/local/lib/python3.7/dist-packages (from ray>=1.6->xgboost_ray) (3.13)\n",
            "Requirement already satisfied: six>=1.5.2 in /usr/local/lib/python3.7/dist-packages (from grpcio>=1.28.1->ray>=1.6->xgboost_ray) (1.15.0)\n",
            "Requirement already satisfied: scipy in /usr/local/lib/python3.7/dist-packages (from xgboost>=0.90->xgboost_ray) (1.4.1)\n",
            "Requirement already satisfied: python-dateutil>=2.7.3 in /usr/local/lib/python3.7/dist-packages (from pandas->xgboost_ray) (2.8.2)\n",
            "Requirement already satisfied: pytz>=2017.2 in /usr/local/lib/python3.7/dist-packages (from pandas->xgboost_ray) (2018.9)\n",
            "Installing collected packages: xgboost-ray\n",
            "Successfully installed xgboost-ray-0.1.5\n"
          ]
        }
      ]
    },
    {
      "cell_type": "markdown",
      "metadata": {
        "id": "LTTUKIU2917O"
      },
      "source": [
        "**Installing SKLearn**"
      ]
    },
    {
      "cell_type": "code",
      "metadata": {
        "colab": {
          "base_uri": "https://localhost:8080/"
        },
        "id": "DQnQXlOa94RQ",
        "outputId": "0ab283a9-ac69-4047-89dc-c10cdfd05838"
      },
      "source": [
        "pip install sklearn"
      ],
      "execution_count": null,
      "outputs": [
        {
          "output_type": "stream",
          "name": "stdout",
          "text": [
            "Requirement already satisfied: sklearn in /usr/local/lib/python3.7/dist-packages (0.0)\n",
            "Requirement already satisfied: scikit-learn in /usr/local/lib/python3.7/dist-packages (from sklearn) (0.22.2.post1)\n",
            "Requirement already satisfied: numpy>=1.11.0 in /usr/local/lib/python3.7/dist-packages (from scikit-learn->sklearn) (1.19.5)\n",
            "Requirement already satisfied: joblib>=0.11 in /usr/local/lib/python3.7/dist-packages (from scikit-learn->sklearn) (1.1.0)\n",
            "Requirement already satisfied: scipy>=0.17.0 in /usr/local/lib/python3.7/dist-packages (from scikit-learn->sklearn) (1.4.1)\n"
          ]
        }
      ]
    },
    {
      "cell_type": "markdown",
      "metadata": {
        "id": "PC6tU0aP96KR"
      },
      "source": [
        "**Simple training example**"
      ]
    },
    {
      "cell_type": "code",
      "metadata": {
        "colab": {
          "base_uri": "https://localhost:8080/"
        },
        "id": "CBZU04-h99JL",
        "outputId": "718d5e2e-e764-4e40-fe3c-32f73a10067c"
      },
      "source": [
        "from xgboost_ray import RayDMatrix, RayParams, train\n",
        "from sklearn.datasets import load_breast_cancer\n",
        "\n",
        "train_x, train_y = load_breast_cancer(return_X_y=True)\n",
        "train_set = RayDMatrix(train_x, train_y)\n",
        "\n",
        "evals_result = {}\n",
        "bst = train(\n",
        "    {\n",
        "        \"objective\": \"binary:logistic\",\n",
        "        \"eval_metric\": [\"logloss\", \"error\"],\n",
        "    },\n",
        "    train_set,\n",
        "    evals_result=evals_result,\n",
        "    evals=[(train_set, \"train\")],\n",
        "    verbose_eval=False,\n",
        "    ray_params=RayParams(num_actors=2, cpus_per_actor=1))\n",
        "\n",
        "bst.save_model(\"model.xgb\")\n",
        "print(\"Final training error: {:.4f}\".format(\n",
        "    evals_result[\"train\"][\"error\"][-1]))"
      ],
      "execution_count": null,
      "outputs": [
        {
          "output_type": "stream",
          "name": "stderr",
          "text": [
            "/usr/local/lib/python3.7/dist-packages/xgboost_ray/main.py:166: UserWarning: You are using `xgboost_ray` with a legacy XGBoost version (version 0.90). While we try to support older XGBoost versions, please note that this library is only fully tested and supported for XGBoost >= 1.4. Please consider upgrading your XGBoost version (`pip install -U xgboost`).\n",
            "  warnings.warn(LEGACY_WARNING)\n",
            "2021-11-10 17:50:13,618\tINFO main.py:971 -- [RayXGBoost] Created 2 new actors (2 total actors). Waiting until actors are ready for training.\n",
            "2021-11-10 17:50:15,245\tINFO main.py:1016 -- [RayXGBoost] Starting XGBoost training.\n",
            "\u001b[2m\u001b[36m(pid=292)\u001b[0m [17:50:15] WARNING: /workspace/src/learner.cc:622: Tree method is automatically selected to be 'approx' for distributed training.\n",
            "\u001b[2m\u001b[36m(pid=292)\u001b[0m [17:50:15] Tree method is automatically selected to be 'approx' for distributed training.\n",
            "\u001b[2m\u001b[36m(pid=316)\u001b[0m [17:50:15] WARNING: /workspace/src/learner.cc:622: Tree method is automatically selected to be 'approx' for distributed training.\n",
            "\u001b[2m\u001b[36m(pid=316)\u001b[0m [17:50:15] Tree method is automatically selected to be 'approx' for distributed training.\n",
            "2021-11-10 17:50:16,510\tINFO main.py:1498 -- [RayXGBoost] Finished XGBoost training on training data with total N=569 in 3.59 seconds (1.26 pure XGBoost training time).\n"
          ]
        },
        {
          "output_type": "stream",
          "name": "stdout",
          "text": [
            "Final training error: 0.0053\n"
          ]
        }
      ]
    },
    {
      "cell_type": "markdown",
      "metadata": {
        "id": "1GPB70Ge-Cqh"
      },
      "source": [
        "**Simple prediction example**"
      ]
    },
    {
      "cell_type": "code",
      "metadata": {
        "colab": {
          "base_uri": "https://localhost:8080/"
        },
        "id": "osoGceRl-E45",
        "outputId": "6224b4f3-d88d-48e5-d0da-39bc7323bb60"
      },
      "source": [
        "from xgboost_ray import RayDMatrix, RayParams, predict\n",
        "from sklearn.datasets import load_breast_cancer\n",
        "import xgboost as xgb\n",
        "\n",
        "data, labels = load_breast_cancer(return_X_y=True)\n",
        "\n",
        "dpred = RayDMatrix(data, labels)\n",
        "\n",
        "bst = xgb.Booster(model_file=\"model.xgb\")\n",
        "pred_ray = predict(bst, dpred, ray_params=RayParams(num_actors=2))\n",
        "\n",
        "print(pred_ray)"
      ],
      "execution_count": null,
      "outputs": [
        {
          "output_type": "stream",
          "name": "stderr",
          "text": [
            "/usr/local/lib/python3.7/dist-packages/xgboost_ray/main.py:166: UserWarning: You are using `xgboost_ray` with a legacy XGBoost version (version 0.90). While we try to support older XGBoost versions, please note that this library is only fully tested and supported for XGBoost >= 1.4. Please consider upgrading your XGBoost version (`pip install -U xgboost`).\n",
            "  warnings.warn(LEGACY_WARNING)\n",
            "2021-11-10 17:50:43,743\tINFO main.py:1535 -- [RayXGBoost] Created 2 remote actors.\n",
            "2021-11-10 17:50:45,360\tINFO main.py:1552 -- [RayXGBoost] Starting XGBoost prediction.\n"
          ]
        },
        {
          "output_type": "stream",
          "name": "stdout",
          "text": [
            "[0.07511145 0.04715708 0.02642454 0.11464816 0.08779665 0.19609766\n",
            " 0.02642454 0.03200296 0.03968306 0.06930447 0.09290799 0.02642454\n",
            " 0.03476055 0.05490047 0.05012454 0.02642454 0.03337562 0.02642454\n",
            " 0.02642454 0.9528658  0.9751126  0.9751126  0.07511145 0.02642454\n",
            " 0.02642454 0.04102892 0.03118352 0.02642454 0.02642454 0.08779665\n",
            " 0.02642454 0.03476055 0.02642454 0.02642454 0.02642454 0.02642454\n",
            " 0.0665335  0.9690314  0.33619487 0.0696831  0.5729184  0.15662025\n",
            " 0.03451282 0.03200296 0.12301622 0.04102892 0.9751126  0.04096693\n",
            " 0.97315884 0.9234187  0.9751126  0.9751126  0.9751126  0.03059936\n",
            " 0.09855346 0.9751126  0.02642454 0.03755146 0.9751126  0.97315884\n",
            " 0.9751126  0.97315884 0.02642454 0.9751126  0.03120249 0.03120249\n",
            " 0.97315884 0.9751126  0.8630876  0.9751126  0.02642454 0.9751126\n",
            " 0.02642454 0.18486539 0.9751126  0.02642454 0.9684864  0.07511145\n",
            " 0.04528174 0.9751126  0.97315884 0.8423582  0.02642454 0.02642454\n",
            " 0.9751126  0.02642454 0.18525673 0.02642454 0.9610139  0.91992867\n",
            " 0.9637276  0.07784454 0.9476124  0.9751126  0.02642454 0.02642454\n",
            " 0.9751126  0.9690314  0.97315884 0.04415701 0.10755398 0.97315884\n",
            " 0.9751126  0.97315884 0.9751126  0.07822353 0.9541412  0.9751126\n",
            " 0.03451282 0.97315884 0.97315884 0.9505852  0.8015017  0.9751126\n",
            " 0.97315884 0.97315884 0.9690314  0.02642454 0.02642454 0.03059936\n",
            " 0.97315884 0.02642454 0.03451282 0.93471986 0.9751126  0.9751126\n",
            " 0.08796025 0.03059936 0.89851445 0.02642454 0.97315884 0.02642454\n",
            " 0.03059936 0.8943731  0.03059936 0.83710206 0.9690314  0.9751126\n",
            " 0.04825843 0.9751126  0.9751126  0.06849893 0.9751126  0.9751126\n",
            " 0.9751126  0.97315884 0.14397003 0.9537103  0.8998925  0.9543276\n",
            " 0.9751126  0.97315884 0.911794   0.9751126  0.9622466  0.9751126\n",
            " 0.02642454 0.64313    0.9751126  0.9751126  0.95592535 0.08779665\n",
            " 0.02642454 0.97315884 0.02642454 0.9657479  0.97315884 0.03337562\n",
            " 0.02642454 0.9724673  0.9751126  0.0708931  0.07511145 0.9690314\n",
            " 0.96707124 0.9751126  0.9751126  0.02642454 0.95819813 0.9690314\n",
            " 0.02642454 0.02642454 0.03337562 0.9690314  0.09398807 0.97315884\n",
            " 0.03517583 0.9751126  0.9751126  0.9751126  0.04069214 0.77108157\n",
            " 0.9434622  0.08649345 0.02786062 0.9751126  0.03120249 0.07338996\n",
            " 0.02642454 0.03118352 0.97315884 0.02642454 0.02642454 0.02642454\n",
            " 0.9622466  0.21271785 0.9751126  0.06340088 0.8858816  0.8857505\n",
            " 0.02642454 0.9751126  0.08779665 0.04224477 0.03755146 0.04096693\n",
            " 0.96730274 0.9751126  0.02642454 0.02642454 0.9751126  0.9751126\n",
            " 0.9751126  0.02642454 0.9751126  0.92772865 0.9751126  0.95374286\n",
            " 0.9610139  0.0557286  0.02642454 0.94982344 0.94982344 0.02642454\n",
            " 0.97315884 0.9751126  0.02642454 0.02863778 0.90234286 0.02642454\n",
            " 0.9751126  0.9543276  0.96730274 0.9649017  0.02642454 0.97315884\n",
            " 0.9751126  0.9469942  0.93040526 0.9751126  0.03451282 0.9751126\n",
            " 0.02642454 0.02642454 0.02642454 0.11561671 0.02642454 0.031783\n",
            " 0.03476055 0.02786062 0.02642454 0.09290799 0.02642454 0.21080676\n",
            " 0.02642454 0.02642454 0.9751126  0.9751126  0.9751126  0.9751126\n",
            " 0.9751126  0.9751126  0.02642454 0.97315884 0.04558344 0.8849121\n",
            " 0.9751126  0.03059936 0.96707124 0.9751126  0.02642454 0.9560918\n",
            " 0.02642454 0.04338858 0.9751126  0.9751126  0.96730274 0.9751126\n",
            " 0.9684864  0.9751126  0.8488096  0.7803997  0.9622466  0.9751126\n",
            " 0.9751126  0.9751126  0.9751126  0.5849058  0.92148197 0.9751126\n",
            " 0.02642454 0.9751126  0.02642454 0.9751126  0.9751126  0.9751126\n",
            " 0.9751126  0.9751126  0.9683355  0.9751126  0.9751126  0.9548208\n",
            " 0.9751126  0.9751126  0.9751126  0.9690314  0.96707124 0.02642454\n",
            " 0.968825   0.9690314  0.9751126  0.04054494 0.9265608  0.02642454\n",
            " 0.9751126  0.9751126  0.9751126  0.9751126  0.02642454 0.05098807\n",
            " 0.031783   0.9751126  0.97315884 0.9751126  0.9751126  0.02642454\n",
            " 0.9751126  0.02642454 0.9751126  0.02642454 0.89866334 0.9751126\n",
            " 0.9751126  0.02642454 0.97315884 0.9751126  0.9751126  0.9203737\n",
            " 0.97315884 0.9751126  0.9751126  0.03451282 0.031783   0.02642454\n",
            " 0.9751126  0.9751126  0.9206134  0.9751126  0.95757306 0.9751126\n",
            " 0.96707124 0.9751126  0.9751126  0.7381298  0.9751126  0.02642454\n",
            " 0.02642454 0.9751126  0.02642454 0.02642454 0.02642454 0.9523307\n",
            " 0.04687763 0.031783   0.9751126  0.8943731  0.94464666 0.94982344\n",
            " 0.9751126  0.22631724 0.9487874  0.9751126  0.9751126  0.97315884\n",
            " 0.9751126  0.08594519 0.9751126  0.9751126  0.9751126  0.02642454\n",
            " 0.9751126  0.97315884 0.02642454 0.02642454 0.97315884 0.9751126\n",
            " 0.8689699  0.9690314  0.9751126  0.9751126  0.02642454 0.9751126\n",
            " 0.9751126  0.9543276  0.9751126  0.9751126  0.8515399  0.9350665\n",
            " 0.02642454 0.9751126  0.9251611  0.9751126  0.9751126  0.860673\n",
            " 0.1858404  0.97315884 0.97315884 0.02642454 0.9751126  0.9751126\n",
            " 0.9751126  0.8970261  0.9751126  0.9609949  0.893762   0.9751126\n",
            " 0.9751126  0.9751126  0.9751126  0.96707124 0.02786062 0.9622466\n",
            " 0.02642454 0.02642454 0.9724673  0.03678946 0.9751126  0.9751126\n",
            " 0.9751126  0.9751126  0.95394206 0.02642454 0.9690314  0.9751126\n",
            " 0.04687763 0.94922996 0.02642454 0.9724673  0.9100143  0.02642454\n",
            " 0.9751126  0.02642454 0.94982344 0.9532535  0.9751126  0.9179891\n",
            " 0.935264   0.94982344 0.9751126  0.94982344 0.02642454 0.02642454\n",
            " 0.9751126  0.9751126  0.9751126  0.897271   0.96229064 0.9751126\n",
            " 0.02642454 0.9019002  0.9751126  0.9134064  0.87593234 0.94982344\n",
            " 0.9751126  0.9751126  0.81142044 0.9543276  0.9751126  0.031783\n",
            " 0.9751126  0.9476124  0.95515615 0.9543276  0.77870756 0.95053387\n",
            " 0.9548208  0.02642454 0.97315884 0.13313308 0.9751126  0.66283953\n",
            " 0.02642454 0.9751126  0.9751126  0.9008776  0.9407183  0.9751126\n",
            " 0.031783   0.02642454 0.9318961  0.04316882 0.9622466  0.02875218\n",
            " 0.9684864  0.9684864  0.9751126  0.97315884 0.9424551  0.02939261\n",
            " 0.9751126  0.96550983 0.03120249 0.93631655 0.1288219  0.9645091\n",
            " 0.02642454 0.02642454 0.9505852  0.9622466  0.97315884 0.02642454\n",
            " 0.9751126  0.9528658  0.97315884 0.97315884 0.93502516 0.9751126\n",
            " 0.950505   0.97315884 0.9751126  0.97315884 0.96634287 0.02642454\n",
            " 0.97315884 0.02642454 0.15464528 0.9293252  0.9751126  0.97315884\n",
            " 0.9751126  0.860673   0.94011134 0.9417494  0.9751126  0.9751126\n",
            " 0.9751126  0.97315884 0.9751126  0.9751126  0.9751126  0.9751126\n",
            " 0.94982344 0.9751126  0.94982344 0.88763565 0.9751126  0.94982344\n",
            " 0.9641301  0.88763565 0.92064005 0.9379563  0.02786062 0.02642454\n",
            " 0.02642454 0.02642454 0.03059936 0.02642454 0.9751126 ]\n"
          ]
        }
      ]
    },
    {
      "cell_type": "markdown",
      "metadata": {
        "id": "3nzNfEas-Ic_"
      },
      "source": [
        "**Hyperparameter optimization**"
      ]
    },
    {
      "cell_type": "code",
      "metadata": {
        "colab": {
          "base_uri": "https://localhost:8080/",
          "height": 1000
        },
        "id": "r6rhpc3a-LHR",
        "outputId": "717a5754-9775-41c1-afcb-1a0bcb127820"
      },
      "source": [
        "from xgboost_ray import RayDMatrix, RayParams, train\n",
        "from sklearn.datasets import load_breast_cancer\n",
        "\n",
        "num_actors = 1\n",
        "num_cpus_per_actor = 1\n",
        "\n",
        "ray_params = RayParams(\n",
        "    num_actors=num_actors, cpus_per_actor=num_cpus_per_actor)\n",
        "\n",
        "def train_model(config):\n",
        "    train_x, train_y = load_breast_cancer(return_X_y=True)\n",
        "    train_set = RayDMatrix(train_x, train_y)\n",
        "\n",
        "    evals_result = {}\n",
        "    bst = train(\n",
        "        params=config,\n",
        "        dtrain=train_set,\n",
        "        evals_result=evals_result,\n",
        "        evals=[(train_set, \"train\")],\n",
        "        verbose_eval=False,\n",
        "        ray_params=ray_params)\n",
        "    bst.save_model(\"model.xgb\")\n",
        "\n",
        "from ray import tune\n",
        "\n",
        "# Specify the hyperparameter search space.\n",
        "config = {\n",
        "    \"tree_method\": \"approx\",\n",
        "    \"objective\": \"binary:logistic\",\n",
        "    \"eval_metric\": [\"logloss\", \"error\"],\n",
        "    \"eta\": tune.loguniform(1e-4, 1e-1),\n",
        "    \"subsample\": tune.uniform(0.5, 1.0),\n",
        "    \"max_depth\": tune.randint(1, 9)\n",
        "}\n",
        "\n",
        "# Make sure to use the `get_tune_resources` method to set the `resources_per_trial`\n",
        "analysis = tune.run(\n",
        "    train_model,\n",
        "    config=config,\n",
        "    metric=\"train-error\",\n",
        "    mode=\"min\",\n",
        "    num_samples=4,\n",
        "    resources_per_trial=ray_params.get_tune_resources())\n",
        "print(\"Best hyperparameters\", analysis.best_config)"
      ],
      "execution_count": null,
      "outputs": [
        {
          "output_type": "stream",
          "name": "stderr",
          "text": [
            "2021-11-10 17:51:05,398\tWARNING function_runner.py:564 -- Function checkpointing is disabled. This may result in unexpected behavior when using checkpointing features or certain schedulers. To enable, set the train function arguments to be `func(config, checkpoint_dir=None)`.\n",
            "2021-11-10 17:51:05,414\tINFO logger.py:606 -- pip install 'ray[tune]' to see TensorBoard files.\n",
            "2021-11-10 17:51:05,415\tWARNING callback.py:115 -- The TensorboardX logger cannot be instantiated because either TensorboardX or one of it's dependencies is not installed. Please make sure you have the latest version of TensorboardX installed: `pip install -U tensorboardx`\n"
          ]
        },
        {
          "output_type": "display_data",
          "data": {
            "text/html": [
              "== Status ==<br>Current time: 2021-11-10 17:51:05 (running for 00:00:00.13)<br>Memory usage on this node: 1.0/12.7 GiB<br>Using FIFO scheduling algorithm.<br>Resources requested: 0/2 CPUs, 0/0 GPUs, 0.0/7.28 GiB heap, 0.0/3.64 GiB objects<br>Result logdir: /root/ray_results/train_model_2021-11-10_17-51-05<br>Number of trials: 4/4 (4 PENDING)<br><table>\n",
              "<thead>\n",
              "<tr><th>Trial name             </th><th>status  </th><th>loc  </th><th style=\"text-align: right;\">        eta</th><th style=\"text-align: right;\">  max_depth</th><th style=\"text-align: right;\">  subsample</th></tr>\n",
              "</thead>\n",
              "<tbody>\n",
              "<tr><td>train_model_c6efe_00000</td><td>PENDING </td><td>     </td><td style=\"text-align: right;\">0.0033019  </td><td style=\"text-align: right;\">          5</td><td style=\"text-align: right;\">   0.501565</td></tr>\n",
              "<tr><td>train_model_c6efe_00001</td><td>PENDING </td><td>     </td><td style=\"text-align: right;\">0.00107545 </td><td style=\"text-align: right;\">          2</td><td style=\"text-align: right;\">   0.853439</td></tr>\n",
              "<tr><td>train_model_c6efe_00002</td><td>PENDING </td><td>     </td><td style=\"text-align: right;\">0.000105926</td><td style=\"text-align: right;\">          6</td><td style=\"text-align: right;\">   0.920638</td></tr>\n",
              "<tr><td>train_model_c6efe_00003</td><td>PENDING </td><td>     </td><td style=\"text-align: right;\">0.0390703  </td><td style=\"text-align: right;\">          1</td><td style=\"text-align: right;\">   0.637116</td></tr>\n",
              "</tbody>\n",
              "</table><br><br>"
            ],
            "text/plain": [
              "<IPython.core.display.HTML object>"
            ]
          },
          "metadata": {}
        },
        {
          "output_type": "stream",
          "name": "stderr",
          "text": [
            "\u001b[2m\u001b[36m(pid=406)\u001b[0m /usr/local/lib/python3.7/dist-packages/xgboost_ray/main.py:166: UserWarning: You are using `xgboost_ray` with a legacy XGBoost version (version 0.90). While we try to support older XGBoost versions, please note that this library is only fully tested and supported for XGBoost >= 1.4. Please consider upgrading your XGBoost version (`pip install -U xgboost`).\n",
            "\u001b[2m\u001b[36m(pid=406)\u001b[0m   warnings.warn(LEGACY_WARNING)\n",
            "\u001b[2m\u001b[36m(pid=406)\u001b[0m /usr/local/lib/python3.7/dist-packages/xgboost_ray/main.py:422: UserWarning: `num_actors` in `ray_params` is smaller than 2 (1). XGBoost will NOT be distributed!\n",
            "\u001b[2m\u001b[36m(pid=406)\u001b[0m   f\"`num_actors` in `ray_params` is smaller than 2 \"\n",
            "\u001b[2m\u001b[36m(pid=406)\u001b[0m 2021-11-10 17:51:07,295\tINFO main.py:971 -- [RayXGBoost] Created 1 new actors (1 total actors). Waiting until actors are ready for training.\n",
            "\u001b[2m\u001b[36m(pid=406)\u001b[0m 2021-11-10 17:51:09,306\tINFO main.py:1016 -- [RayXGBoost] Starting XGBoost training.\n"
          ]
        },
        {
          "output_type": "stream",
          "name": "stdout",
          "text": [
            "Result for train_model_c6efe_00000:\n",
            "  date: 2021-11-10_17-51-10\n",
            "  done: false\n",
            "  experiment_id: caf215c8a90f4f4884f4cfc4e3f43f82\n",
            "  hostname: 2c6e832e1a8d\n",
            "  iterations_since_restore: 1\n",
            "  node_ip: 172.28.0.2\n",
            "  pid: 406\n",
            "  time_since_restore: 2.907121419906616\n",
            "  time_this_iter_s: 2.907121419906616\n",
            "  time_total_s: 2.907121419906616\n",
            "  timestamp: 1636566670\n",
            "  timesteps_since_restore: 0\n",
            "  train-error: 0.057996\n",
            "  train-logloss: 0.690397\n",
            "  training_iteration: 1\n",
            "  trial_id: c6efe_00000\n",
            "  \n",
            "Result for train_model_c6efe_00000:\n",
            "  date: 2021-11-10_17-51-10\n",
            "  done: true\n",
            "  experiment_id: caf215c8a90f4f4884f4cfc4e3f43f82\n",
            "  experiment_tag: 0_eta=0.0033019,max_depth=5,subsample=0.50157\n",
            "  hostname: 2c6e832e1a8d\n",
            "  iterations_since_restore: 10\n",
            "  node_ip: 172.28.0.2\n",
            "  pid: 406\n",
            "  time_since_restore: 2.972598075866699\n",
            "  time_this_iter_s: 0.005982875823974609\n",
            "  time_total_s: 2.972598075866699\n",
            "  timestamp: 1636566670\n",
            "  timesteps_since_restore: 0\n",
            "  train-error: 0.033392\n",
            "  train-logloss: 0.666235\n",
            "  training_iteration: 10\n",
            "  trial_id: c6efe_00000\n",
            "  \n"
          ]
        },
        {
          "output_type": "stream",
          "name": "stderr",
          "text": [
            "\u001b[2m\u001b[36m(pid=406)\u001b[0m 2021-11-10 17:51:10,223\tINFO main.py:1498 -- [RayXGBoost] Finished XGBoost training on training data with total N=569 in 2.97 seconds (0.91 pure XGBoost training time).\n"
          ]
        },
        {
          "output_type": "display_data",
          "data": {
            "text/html": [
              "== Status ==<br>Current time: 2021-11-10 17:51:11 (running for 00:00:06.37)<br>Memory usage on this node: 1.1/12.7 GiB<br>Using FIFO scheduling algorithm.<br>Resources requested: 2.0/2 CPUs, 0/0 GPUs, 0.0/7.28 GiB heap, 0.0/3.64 GiB objects<br>Current best trial: c6efe_00000 with train-error=0.033392 and parameters={'tree_method': 'approx', 'objective': 'binary:logistic', 'eval_metric': ['logloss', 'error'], 'eta': 0.003301904485695155, 'subsample': 0.5015652129574755, 'max_depth': 5, 'nthread': 1, 'n_jobs': 1}<br>Result logdir: /root/ray_results/train_model_2021-11-10_17-51-05<br>Number of trials: 4/4 (2 PENDING, 1 RUNNING, 1 TERMINATED)<br><table>\n",
              "<thead>\n",
              "<tr><th>Trial name             </th><th>status    </th><th>loc           </th><th style=\"text-align: right;\">        eta</th><th style=\"text-align: right;\">  max_depth</th><th style=\"text-align: right;\">  subsample</th><th style=\"text-align: right;\">  iter</th><th style=\"text-align: right;\">  total time (s)</th><th style=\"text-align: right;\">  train-logloss</th><th style=\"text-align: right;\">  train-error</th></tr>\n",
              "</thead>\n",
              "<tbody>\n",
              "<tr><td>train_model_c6efe_00001</td><td>RUNNING   </td><td>172.28.0.2:510</td><td style=\"text-align: right;\">0.00107545 </td><td style=\"text-align: right;\">          2</td><td style=\"text-align: right;\">   0.853439</td><td style=\"text-align: right;\">      </td><td style=\"text-align: right;\">                </td><td style=\"text-align: right;\">               </td><td style=\"text-align: right;\">             </td></tr>\n",
              "<tr><td>train_model_c6efe_00002</td><td>PENDING   </td><td>              </td><td style=\"text-align: right;\">0.000105926</td><td style=\"text-align: right;\">          6</td><td style=\"text-align: right;\">   0.920638</td><td style=\"text-align: right;\">      </td><td style=\"text-align: right;\">                </td><td style=\"text-align: right;\">               </td><td style=\"text-align: right;\">             </td></tr>\n",
              "<tr><td>train_model_c6efe_00003</td><td>PENDING   </td><td>              </td><td style=\"text-align: right;\">0.0390703  </td><td style=\"text-align: right;\">          1</td><td style=\"text-align: right;\">   0.637116</td><td style=\"text-align: right;\">      </td><td style=\"text-align: right;\">                </td><td style=\"text-align: right;\">               </td><td style=\"text-align: right;\">             </td></tr>\n",
              "<tr><td>train_model_c6efe_00000</td><td>TERMINATED</td><td>172.28.0.2:406</td><td style=\"text-align: right;\">0.0033019  </td><td style=\"text-align: right;\">          5</td><td style=\"text-align: right;\">   0.501565</td><td style=\"text-align: right;\">    10</td><td style=\"text-align: right;\">          2.9726</td><td style=\"text-align: right;\">       0.666235</td><td style=\"text-align: right;\">     0.033392</td></tr>\n",
              "</tbody>\n",
              "</table><br><br>"
            ],
            "text/plain": [
              "<IPython.core.display.HTML object>"
            ]
          },
          "metadata": {}
        },
        {
          "output_type": "stream",
          "name": "stderr",
          "text": [
            "\u001b[2m\u001b[36m(pid=510)\u001b[0m /usr/local/lib/python3.7/dist-packages/xgboost_ray/main.py:166: UserWarning: You are using `xgboost_ray` with a legacy XGBoost version (version 0.90). While we try to support older XGBoost versions, please note that this library is only fully tested and supported for XGBoost >= 1.4. Please consider upgrading your XGBoost version (`pip install -U xgboost`).\n",
            "\u001b[2m\u001b[36m(pid=510)\u001b[0m   warnings.warn(LEGACY_WARNING)\n",
            "\u001b[2m\u001b[36m(pid=510)\u001b[0m /usr/local/lib/python3.7/dist-packages/xgboost_ray/main.py:422: UserWarning: `num_actors` in `ray_params` is smaller than 2 (1). XGBoost will NOT be distributed!\n",
            "\u001b[2m\u001b[36m(pid=510)\u001b[0m   f\"`num_actors` in `ray_params` is smaller than 2 \"\n",
            "\u001b[2m\u001b[36m(pid=510)\u001b[0m 2021-11-10 17:51:11,861\tINFO main.py:971 -- [RayXGBoost] Created 1 new actors (1 total actors). Waiting until actors are ready for training.\n",
            "\u001b[2m\u001b[36m(pid=510)\u001b[0m 2021-11-10 17:51:13,874\tINFO main.py:1016 -- [RayXGBoost] Starting XGBoost training.\n"
          ]
        },
        {
          "output_type": "stream",
          "name": "stdout",
          "text": [
            "Result for train_model_c6efe_00001:\n",
            "  date: 2021-11-10_17-51-14\n",
            "  done: false\n",
            "  experiment_id: 5d2058d78d764afeab19faecb065b01f\n",
            "  hostname: 2c6e832e1a8d\n",
            "  iterations_since_restore: 1\n",
            "  node_ip: 172.28.0.2\n",
            "  pid: 510\n",
            "  time_since_restore: 2.909945487976074\n",
            "  time_this_iter_s: 2.909945487976074\n",
            "  time_total_s: 2.909945487976074\n",
            "  timestamp: 1636566674\n",
            "  timesteps_since_restore: 0\n",
            "  train-error: 0.050967\n",
            "  train-logloss: 0.692279\n",
            "  training_iteration: 1\n",
            "  trial_id: c6efe_00001\n",
            "  \n",
            "Result for train_model_c6efe_00001:\n",
            "  date: 2021-11-10_17-51-14\n",
            "  done: true\n",
            "  experiment_id: 5d2058d78d764afeab19faecb065b01f\n",
            "  experiment_tag: 1_eta=0.0010755,max_depth=2,subsample=0.85344\n",
            "  hostname: 2c6e832e1a8d\n",
            "  iterations_since_restore: 10\n",
            "  node_ip: 172.28.0.2\n",
            "  pid: 510\n",
            "  time_since_restore: 2.9644970893859863\n",
            "  time_this_iter_s: 0.00523686408996582\n",
            "  time_total_s: 2.9644970893859863\n",
            "  timestamp: 1636566674\n",
            "  timesteps_since_restore: 0\n",
            "  train-error: 0.036907\n",
            "  train-logloss: 0.684501\n",
            "  training_iteration: 10\n",
            "  trial_id: c6efe_00001\n",
            "  \n"
          ]
        },
        {
          "output_type": "stream",
          "name": "stderr",
          "text": [
            "\u001b[2m\u001b[36m(pid=510)\u001b[0m 2021-11-10 17:51:14,778\tINFO main.py:1498 -- [RayXGBoost] Finished XGBoost training on training data with total N=569 in 2.96 seconds (0.90 pure XGBoost training time).\n",
            "\u001b[2m\u001b[36m(pid=614)\u001b[0m /usr/local/lib/python3.7/dist-packages/xgboost_ray/main.py:166: UserWarning: You are using `xgboost_ray` with a legacy XGBoost version (version 0.90). While we try to support older XGBoost versions, please note that this library is only fully tested and supported for XGBoost >= 1.4. Please consider upgrading your XGBoost version (`pip install -U xgboost`).\n",
            "\u001b[2m\u001b[36m(pid=614)\u001b[0m   warnings.warn(LEGACY_WARNING)\n",
            "\u001b[2m\u001b[36m(pid=614)\u001b[0m /usr/local/lib/python3.7/dist-packages/xgboost_ray/main.py:422: UserWarning: `num_actors` in `ray_params` is smaller than 2 (1). XGBoost will NOT be distributed!\n",
            "\u001b[2m\u001b[36m(pid=614)\u001b[0m   f\"`num_actors` in `ray_params` is smaller than 2 \"\n",
            "\u001b[2m\u001b[36m(pid=614)\u001b[0m 2021-11-10 17:51:16,417\tINFO main.py:971 -- [RayXGBoost] Created 1 new actors (1 total actors). Waiting until actors are ready for training.\n"
          ]
        },
        {
          "output_type": "display_data",
          "data": {
            "text/html": [
              "== Status ==<br>Current time: 2021-11-10 17:51:16 (running for 00:00:11.21)<br>Memory usage on this node: 1.2/12.7 GiB<br>Using FIFO scheduling algorithm.<br>Resources requested: 2.0/2 CPUs, 0/0 GPUs, 0.0/7.28 GiB heap, 0.0/3.64 GiB objects<br>Current best trial: c6efe_00000 with train-error=0.033392 and parameters={'tree_method': 'approx', 'objective': 'binary:logistic', 'eval_metric': ['logloss', 'error'], 'eta': 0.003301904485695155, 'subsample': 0.5015652129574755, 'max_depth': 5, 'nthread': 1, 'n_jobs': 1}<br>Result logdir: /root/ray_results/train_model_2021-11-10_17-51-05<br>Number of trials: 4/4 (1 PENDING, 1 RUNNING, 2 TERMINATED)<br><table>\n",
              "<thead>\n",
              "<tr><th>Trial name             </th><th>status    </th><th>loc           </th><th style=\"text-align: right;\">        eta</th><th style=\"text-align: right;\">  max_depth</th><th style=\"text-align: right;\">  subsample</th><th style=\"text-align: right;\">  iter</th><th style=\"text-align: right;\">  total time (s)</th><th style=\"text-align: right;\">  train-logloss</th><th style=\"text-align: right;\">  train-error</th></tr>\n",
              "</thead>\n",
              "<tbody>\n",
              "<tr><td>train_model_c6efe_00002</td><td>RUNNING   </td><td>172.28.0.2:614</td><td style=\"text-align: right;\">0.000105926</td><td style=\"text-align: right;\">          6</td><td style=\"text-align: right;\">   0.920638</td><td style=\"text-align: right;\">      </td><td style=\"text-align: right;\">                </td><td style=\"text-align: right;\">               </td><td style=\"text-align: right;\">             </td></tr>\n",
              "<tr><td>train_model_c6efe_00003</td><td>PENDING   </td><td>              </td><td style=\"text-align: right;\">0.0390703  </td><td style=\"text-align: right;\">          1</td><td style=\"text-align: right;\">   0.637116</td><td style=\"text-align: right;\">      </td><td style=\"text-align: right;\">                </td><td style=\"text-align: right;\">               </td><td style=\"text-align: right;\">             </td></tr>\n",
              "<tr><td>train_model_c6efe_00000</td><td>TERMINATED</td><td>172.28.0.2:406</td><td style=\"text-align: right;\">0.0033019  </td><td style=\"text-align: right;\">          5</td><td style=\"text-align: right;\">   0.501565</td><td style=\"text-align: right;\">    10</td><td style=\"text-align: right;\">          2.9726</td><td style=\"text-align: right;\">       0.666235</td><td style=\"text-align: right;\">     0.033392</td></tr>\n",
              "<tr><td>train_model_c6efe_00001</td><td>TERMINATED</td><td>172.28.0.2:510</td><td style=\"text-align: right;\">0.00107545 </td><td style=\"text-align: right;\">          2</td><td style=\"text-align: right;\">   0.853439</td><td style=\"text-align: right;\">    10</td><td style=\"text-align: right;\">          2.9645</td><td style=\"text-align: right;\">       0.684501</td><td style=\"text-align: right;\">     0.036907</td></tr>\n",
              "</tbody>\n",
              "</table><br><br>"
            ],
            "text/plain": [
              "<IPython.core.display.HTML object>"
            ]
          },
          "metadata": {}
        },
        {
          "output_type": "stream",
          "name": "stdout",
          "text": [
            "\u001b[2m\u001b[1m\u001b[36m(scheduler +1m6s)\u001b[0m Tip: use `ray status` to view detailed cluster status. To disable these messages, set RAY_SCHEDULER_EVENTS=0.\n",
            "\u001b[2m\u001b[1m\u001b[33m(scheduler +1m6s)\u001b[0m Warning: The following resource request cannot be scheduled right now: {'CPU': 1.0}. This is likely due to all cluster resources being claimed by actors. Consider creating fewer actors or adding more nodes to this Ray cluster.\n"
          ]
        },
        {
          "output_type": "stream",
          "name": "stderr",
          "text": [
            "\u001b[2m\u001b[36m(pid=614)\u001b[0m 2021-11-10 17:51:18,532\tINFO main.py:1016 -- [RayXGBoost] Starting XGBoost training.\n"
          ]
        },
        {
          "output_type": "stream",
          "name": "stdout",
          "text": [
            "Result for train_model_c6efe_00002:\n",
            "  date: 2021-11-10_17-51-19\n",
            "  done: false\n",
            "  experiment_id: 3d8c4028b3da47eeb9d1c6b4d763260a\n",
            "  hostname: 2c6e832e1a8d\n",
            "  iterations_since_restore: 1\n",
            "  node_ip: 172.28.0.2\n",
            "  pid: 614\n",
            "  time_since_restore: 3.0054855346679688\n",
            "  time_this_iter_s: 3.0054855346679688\n",
            "  time_total_s: 3.0054855346679688\n",
            "  timestamp: 1636566679\n",
            "  timesteps_since_restore: 0\n",
            "  train-error: 0.024605\n",
            "  train-logloss: 0.693054\n",
            "  training_iteration: 1\n",
            "  trial_id: c6efe_00002\n",
            "  \n",
            "Result for train_model_c6efe_00002:\n",
            "  date: 2021-11-10_17-51-19\n",
            "  done: true\n",
            "  experiment_id: 3d8c4028b3da47eeb9d1c6b4d763260a\n",
            "  experiment_tag: 2_eta=0.00010593,max_depth=6,subsample=0.92064\n",
            "  hostname: 2c6e832e1a8d\n",
            "  iterations_since_restore: 10\n",
            "  node_ip: 172.28.0.2\n",
            "  pid: 614\n",
            "  time_since_restore: 3.0628750324249268\n",
            "  time_this_iter_s: 0.0055751800537109375\n",
            "  time_total_s: 3.0628750324249268\n",
            "  timestamp: 1636566679\n",
            "  timesteps_since_restore: 0\n",
            "  train-error: 0.010545\n",
            "  train-logloss: 0.692203\n",
            "  training_iteration: 10\n",
            "  trial_id: c6efe_00002\n",
            "  \n"
          ]
        },
        {
          "output_type": "stream",
          "name": "stderr",
          "text": [
            "\u001b[2m\u001b[36m(pid=614)\u001b[0m 2021-11-10 17:51:19,440\tINFO main.py:1498 -- [RayXGBoost] Finished XGBoost training on training data with total N=569 in 3.06 seconds (0.90 pure XGBoost training time).\n",
            "\u001b[2m\u001b[36m(pid=718)\u001b[0m /usr/local/lib/python3.7/dist-packages/xgboost_ray/main.py:166: UserWarning: You are using `xgboost_ray` with a legacy XGBoost version (version 0.90). While we try to support older XGBoost versions, please note that this library is only fully tested and supported for XGBoost >= 1.4. Please consider upgrading your XGBoost version (`pip install -U xgboost`).\n",
            "\u001b[2m\u001b[36m(pid=718)\u001b[0m   warnings.warn(LEGACY_WARNING)\n",
            "\u001b[2m\u001b[36m(pid=718)\u001b[0m /usr/local/lib/python3.7/dist-packages/xgboost_ray/main.py:422: UserWarning: `num_actors` in `ray_params` is smaller than 2 (1). XGBoost will NOT be distributed!\n",
            "\u001b[2m\u001b[36m(pid=718)\u001b[0m   f\"`num_actors` in `ray_params` is smaller than 2 \"\n",
            "\u001b[2m\u001b[36m(pid=718)\u001b[0m 2021-11-10 17:51:21,064\tINFO main.py:971 -- [RayXGBoost] Created 1 new actors (1 total actors). Waiting until actors are ready for training.\n"
          ]
        },
        {
          "output_type": "display_data",
          "data": {
            "text/html": [
              "== Status ==<br>Current time: 2021-11-10 17:51:22 (running for 00:00:17.04)<br>Memory usage on this node: 1.3/12.7 GiB<br>Using FIFO scheduling algorithm.<br>Resources requested: 2.0/2 CPUs, 0/0 GPUs, 0.0/7.28 GiB heap, 0.0/3.64 GiB objects<br>Current best trial: c6efe_00002 with train-error=0.010545 and parameters={'tree_method': 'approx', 'objective': 'binary:logistic', 'eval_metric': ['logloss', 'error'], 'eta': 0.00010592618712694762, 'subsample': 0.9206383466746203, 'max_depth': 6, 'nthread': 1, 'n_jobs': 1}<br>Result logdir: /root/ray_results/train_model_2021-11-10_17-51-05<br>Number of trials: 4/4 (1 RUNNING, 3 TERMINATED)<br><table>\n",
              "<thead>\n",
              "<tr><th>Trial name             </th><th>status    </th><th>loc           </th><th style=\"text-align: right;\">        eta</th><th style=\"text-align: right;\">  max_depth</th><th style=\"text-align: right;\">  subsample</th><th style=\"text-align: right;\">  iter</th><th style=\"text-align: right;\">  total time (s)</th><th style=\"text-align: right;\">  train-logloss</th><th style=\"text-align: right;\">  train-error</th></tr>\n",
              "</thead>\n",
              "<tbody>\n",
              "<tr><td>train_model_c6efe_00003</td><td>RUNNING   </td><td>172.28.0.2:718</td><td style=\"text-align: right;\">0.0390703  </td><td style=\"text-align: right;\">          1</td><td style=\"text-align: right;\">   0.637116</td><td style=\"text-align: right;\">      </td><td style=\"text-align: right;\">                </td><td style=\"text-align: right;\">               </td><td style=\"text-align: right;\">             </td></tr>\n",
              "<tr><td>train_model_c6efe_00000</td><td>TERMINATED</td><td>172.28.0.2:406</td><td style=\"text-align: right;\">0.0033019  </td><td style=\"text-align: right;\">          5</td><td style=\"text-align: right;\">   0.501565</td><td style=\"text-align: right;\">    10</td><td style=\"text-align: right;\">         2.9726 </td><td style=\"text-align: right;\">       0.666235</td><td style=\"text-align: right;\">     0.033392</td></tr>\n",
              "<tr><td>train_model_c6efe_00001</td><td>TERMINATED</td><td>172.28.0.2:510</td><td style=\"text-align: right;\">0.00107545 </td><td style=\"text-align: right;\">          2</td><td style=\"text-align: right;\">   0.853439</td><td style=\"text-align: right;\">    10</td><td style=\"text-align: right;\">         2.9645 </td><td style=\"text-align: right;\">       0.684501</td><td style=\"text-align: right;\">     0.036907</td></tr>\n",
              "<tr><td>train_model_c6efe_00002</td><td>TERMINATED</td><td>172.28.0.2:614</td><td style=\"text-align: right;\">0.000105926</td><td style=\"text-align: right;\">          6</td><td style=\"text-align: right;\">   0.920638</td><td style=\"text-align: right;\">    10</td><td style=\"text-align: right;\">         3.06288</td><td style=\"text-align: right;\">       0.692203</td><td style=\"text-align: right;\">     0.010545</td></tr>\n",
              "</tbody>\n",
              "</table><br><br>"
            ],
            "text/plain": [
              "<IPython.core.display.HTML object>"
            ]
          },
          "metadata": {}
        },
        {
          "output_type": "stream",
          "name": "stderr",
          "text": [
            "\u001b[2m\u001b[36m(pid=718)\u001b[0m 2021-11-10 17:51:23,174\tINFO main.py:1016 -- [RayXGBoost] Starting XGBoost training.\n"
          ]
        },
        {
          "output_type": "stream",
          "name": "stdout",
          "text": [
            "Result for train_model_c6efe_00003:\n",
            "  date: 2021-11-10_17-51-24\n",
            "  done: false\n",
            "  experiment_id: 2fa57007de86493db75e8829c2d12617\n",
            "  hostname: 2c6e832e1a8d\n",
            "  iterations_since_restore: 1\n",
            "  node_ip: 172.28.0.2\n",
            "  pid: 718\n",
            "  time_since_restore: 2.997675657272339\n",
            "  time_this_iter_s: 2.997675657272339\n",
            "  time_total_s: 2.997675657272339\n",
            "  timestamp: 1636566684\n",
            "  timesteps_since_restore: 0\n",
            "  train-error: 0.082601\n",
            "  train-logloss: 0.666329\n",
            "  training_iteration: 1\n",
            "  trial_id: c6efe_00003\n",
            "  \n",
            "Result for train_model_c6efe_00003:\n",
            "  date: 2021-11-10_17-51-24\n",
            "  done: true\n",
            "  experiment_id: 2fa57007de86493db75e8829c2d12617\n",
            "  experiment_tag: 3_eta=0.03907,max_depth=1,subsample=0.63712\n",
            "  hostname: 2c6e832e1a8d\n",
            "  iterations_since_restore: 10\n",
            "  node_ip: 172.28.0.2\n",
            "  pid: 718\n",
            "  time_since_restore: 3.0531466007232666\n",
            "  time_this_iter_s: 0.004805326461791992\n",
            "  time_total_s: 3.0531466007232666\n",
            "  timestamp: 1636566684\n",
            "  timesteps_since_restore: 0\n",
            "  train-error: 0.063269\n",
            "  train-logloss: 0.487603\n",
            "  training_iteration: 10\n",
            "  trial_id: c6efe_00003\n",
            "  \n"
          ]
        },
        {
          "output_type": "stream",
          "name": "stderr",
          "text": [
            "\u001b[2m\u001b[36m(pid=718)\u001b[0m 2021-11-10 17:51:24,078\tINFO main.py:1498 -- [RayXGBoost] Finished XGBoost training on training data with total N=569 in 3.05 seconds (0.90 pure XGBoost training time).\n"
          ]
        },
        {
          "output_type": "display_data",
          "data": {
            "text/html": [
              "== Status ==<br>Current time: 2021-11-10 17:51:24 (running for 00:00:18.67)<br>Memory usage on this node: 1.3/12.7 GiB<br>Using FIFO scheduling algorithm.<br>Resources requested: 0/2 CPUs, 0/0 GPUs, 0.0/7.28 GiB heap, 0.0/3.64 GiB objects<br>Current best trial: c6efe_00002 with train-error=0.010545 and parameters={'tree_method': 'approx', 'objective': 'binary:logistic', 'eval_metric': ['logloss', 'error'], 'eta': 0.00010592618712694762, 'subsample': 0.9206383466746203, 'max_depth': 6, 'nthread': 1, 'n_jobs': 1}<br>Result logdir: /root/ray_results/train_model_2021-11-10_17-51-05<br>Number of trials: 4/4 (4 TERMINATED)<br><table>\n",
              "<thead>\n",
              "<tr><th>Trial name             </th><th>status    </th><th>loc           </th><th style=\"text-align: right;\">        eta</th><th style=\"text-align: right;\">  max_depth</th><th style=\"text-align: right;\">  subsample</th><th style=\"text-align: right;\">  iter</th><th style=\"text-align: right;\">  total time (s)</th><th style=\"text-align: right;\">  train-logloss</th><th style=\"text-align: right;\">  train-error</th></tr>\n",
              "</thead>\n",
              "<tbody>\n",
              "<tr><td>train_model_c6efe_00000</td><td>TERMINATED</td><td>172.28.0.2:406</td><td style=\"text-align: right;\">0.0033019  </td><td style=\"text-align: right;\">          5</td><td style=\"text-align: right;\">   0.501565</td><td style=\"text-align: right;\">    10</td><td style=\"text-align: right;\">         2.9726 </td><td style=\"text-align: right;\">       0.666235</td><td style=\"text-align: right;\">     0.033392</td></tr>\n",
              "<tr><td>train_model_c6efe_00001</td><td>TERMINATED</td><td>172.28.0.2:510</td><td style=\"text-align: right;\">0.00107545 </td><td style=\"text-align: right;\">          2</td><td style=\"text-align: right;\">   0.853439</td><td style=\"text-align: right;\">    10</td><td style=\"text-align: right;\">         2.9645 </td><td style=\"text-align: right;\">       0.684501</td><td style=\"text-align: right;\">     0.036907</td></tr>\n",
              "<tr><td>train_model_c6efe_00002</td><td>TERMINATED</td><td>172.28.0.2:614</td><td style=\"text-align: right;\">0.000105926</td><td style=\"text-align: right;\">          6</td><td style=\"text-align: right;\">   0.920638</td><td style=\"text-align: right;\">    10</td><td style=\"text-align: right;\">         3.06288</td><td style=\"text-align: right;\">       0.692203</td><td style=\"text-align: right;\">     0.010545</td></tr>\n",
              "<tr><td>train_model_c6efe_00003</td><td>TERMINATED</td><td>172.28.0.2:718</td><td style=\"text-align: right;\">0.0390703  </td><td style=\"text-align: right;\">          1</td><td style=\"text-align: right;\">   0.637116</td><td style=\"text-align: right;\">    10</td><td style=\"text-align: right;\">         3.05315</td><td style=\"text-align: right;\">       0.487603</td><td style=\"text-align: right;\">     0.063269</td></tr>\n",
              "</tbody>\n",
              "</table><br><br>"
            ],
            "text/plain": [
              "<IPython.core.display.HTML object>"
            ]
          },
          "metadata": {}
        },
        {
          "output_type": "stream",
          "name": "stderr",
          "text": [
            "2021-11-10 17:51:24,237\tINFO tune.py:630 -- Total run time: 18.84 seconds (18.66 seconds for the tuning loop).\n"
          ]
        },
        {
          "output_type": "stream",
          "name": "stdout",
          "text": [
            "Best hyperparameters {'tree_method': 'approx', 'objective': 'binary:logistic', 'eval_metric': ['logloss', 'error'], 'eta': 0.00010592618712694762, 'subsample': 0.9206383466746203, 'max_depth': 6}\n"
          ]
        }
      ]
    }
  ]
}